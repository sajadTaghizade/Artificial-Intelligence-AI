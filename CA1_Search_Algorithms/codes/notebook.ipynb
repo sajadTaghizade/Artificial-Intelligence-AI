{
 "cells": [
  {
   "cell_type": "code",
   "execution_count": 1,
   "metadata": {},
   "outputs": [],
   "source": [
    "from game import Game\n",
    "import time\n",
    "import os\n",
    "import re"
   ]
  },
  {
   "cell_type": "markdown",
   "metadata": {},
   "source": [
    "## Load maps"
   ]
  },
  {
   "cell_type": "code",
   "execution_count": 2,
   "metadata": {},
   "outputs": [],
   "source": [
    "def extract_map_files(directory):\n",
    "    pattern = re.compile(r'^map(\\d+)\\.txt$')\n",
    "    map_file_indices = []\n",
    "\n",
    "    for file_name in os.listdir(directory):\n",
    "        match = pattern.match(file_name)\n",
    "        if match:\n",
    "            map_file_indices.append(match.group(1))\n",
    "\n",
    "    return [int(idx) for idx in map_file_indices]\n",
    "\n",
    "def is_valid_input(map, indices, algorithm, solvers):\n",
    "    valid_input = True\n",
    "    if map not in indices:\n",
    "        print(f\"Map index out of range. Please choose within range {min(indices)} to {max(indices)}\")\n",
    "        valid_input = False\n",
    "    if algorithm not in solvers.keys():    \n",
    "        print(f\"{algorithm} is not a defined algorithm. Please choose from\", *[f\"{solver} ({i+1})  \" for i, solver in enumerate(solvers.keys())])\n",
    "        valid_input = False\n",
    "    return valid_input\n",
    "\n",
    "def load_map(map_index):  \n",
    "    file_name = \"map\" + str(map_index) + \".txt\"\n",
    "    with open('./assets/maps/' + file_name) as f:\n",
    "        game_map = f.read()\n",
    "    return game_map\n",
    "\n",
    "map_file_indices = extract_map_files(\"./assets/maps/\")"
   ]
  },
  {
   "cell_type": "markdown",
   "metadata": {},
   "source": [
    "## Tutorial"
   ]
  },
  {
   "cell_type": "code",
   "execution_count": 3,
   "metadata": {},
   "outputs": [
    {
     "name": "stdout",
     "output_type": "stream",
     "text": [
      "This is an example of the game map:\n",
      "W\tP1\tH\tW\tW\tW\tW\n",
      "W\tW\tW\tG1\tW\tW\tW\n",
      "W\tW\tW\tB1\tW\tW\tW\n",
      "W\tG2\tB2\t.\tP1\tW\tW\n",
      "W\tW\tW\tB3\tW\tW\tW\n",
      "W\tW\tW\tG3\tW\tW\tW\n",
      "W\tW\tW\tW\tW\tW\tW\n"
     ]
    }
   ],
   "source": [
    "print(\"This is an example of the game map:\")\n",
    "map = load_map(2)\n",
    "game = Game(map)\n",
    "game.display_map()"
   ]
  },
  {
   "cell_type": "code",
   "execution_count": 4,
   "metadata": {},
   "outputs": [
    {
     "data": {
      "text/plain": [
       "[(2, 3), (3, 2), (4, 3)]"
      ]
     },
     "execution_count": 4,
     "metadata": {},
     "output_type": "execute_result"
    }
   ],
   "source": [
    "game.get_box_locations()"
   ]
  },
  {
   "cell_type": "code",
   "execution_count": 5,
   "metadata": {},
   "outputs": [
    {
     "data": {
      "text/plain": [
       "[(1, 3), (3, 1), (5, 3)]"
      ]
     },
     "execution_count": 5,
     "metadata": {},
     "output_type": "execute_result"
    }
   ],
   "source": [
    "game.get_goal_locations()"
   ]
  },
  {
   "cell_type": "code",
   "execution_count": 6,
   "metadata": {},
   "outputs": [
    {
     "data": {
      "text/plain": [
       "(0, 2)"
      ]
     },
     "execution_count": 6,
     "metadata": {},
     "output_type": "execute_result"
    }
   ],
   "source": [
    "game.get_player_position()"
   ]
  },
  {
   "cell_type": "markdown",
   "metadata": {},
   "source": [
    "- W : Wall\n",
    "- H : Human\n",
    "- B : Box\n",
    "- P : Portal\n",
    "- G : Goal"
   ]
  },
  {
   "cell_type": "code",
   "execution_count": 7,
   "metadata": {},
   "outputs": [
    {
     "name": "stdout",
     "output_type": "stream",
     "text": [
      "Move U is valid: False\n",
      "Move D is valid: False\n",
      "Move R is valid: False\n",
      "Move L is valid: True\n",
      "W\tP1\t.\tW\tW\tW\tW\n",
      "W\tW\tW\tG1\tW\tW\tW\n",
      "W\tW\tW\tB1\tW\tW\tW\n",
      "W\tG2\tB2\tH\tP1\tW\tW\n",
      "W\tW\tW\tB3\tW\tW\tW\n",
      "W\tW\tW\tG3\tW\tW\tW\n",
      "W\tW\tW\tW\tW\tW\tW\n"
     ]
    }
   ],
   "source": [
    "for direction in ['U', 'D', 'R', 'L']:\n",
    "    result = game.apply_move(direction)\n",
    "    print(f\"Move {direction} is valid: {result}\")\n",
    "    if result:\n",
    "        game.display_map()"
   ]
  },
  {
   "cell_type": "code",
   "execution_count": 8,
   "metadata": {},
   "outputs": [
    {
     "name": "stdout",
     "output_type": "stream",
     "text": [
      "W\tP1\t.\tW\tW\tW\tW\n",
      "W\tW\tW\tG1/B1\tW\tW\tW\n",
      "W\tW\tW\tH\tW\tW\tW\n",
      "W\tG2\tB2\t.\tP1\tW\tW\n",
      "W\tW\tW\tB3\tW\tW\tW\n",
      "W\tW\tW\tG3\tW\tW\tW\n",
      "W\tW\tW\tW\tW\tW\tW\n"
     ]
    }
   ],
   "source": [
    "game.apply_move('U')\n",
    "game.display_map()"
   ]
  },
  {
   "cell_type": "code",
   "execution_count": 9,
   "metadata": {},
   "outputs": [
    {
     "name": "stdout",
     "output_type": "stream",
     "text": [
      "W\tP1\t.\tW\tW\tW\tW\n",
      "W\tW\tW\tG1/B1\tW\tW\tW\n",
      "W\tW\tW\t.\tW\tW\tW\n",
      "W\tG2/B2\t.\t.\tP1\tW\tW\n",
      "W\tW\tW\tH\tW\tW\tW\n",
      "W\tW\tW\tG3/B3\tW\tW\tW\n",
      "W\tW\tW\tW\tW\tW\tW\n",
      "Is game won? True\n"
     ]
    }
   ],
   "source": [
    "game.apply_moves(['D', 'L', 'R', 'D']) \n",
    "game.display_map()\n",
    "print(\"Is game won?\", game.is_game_won())"
   ]
  },
  {
   "cell_type": "markdown",
   "metadata": {},
   "source": [
    "## Solvers"
   ]
  },
  {
   "cell_type": "markdown",
   "metadata": {},
   "source": [
    "# helper functions"
   ]
  },
  {
   "cell_type": "code",
   "execution_count": 10,
   "metadata": {},
   "outputs": [],
   "source": [
    "def state_convertor(state):\n",
    "    player = state[0]\n",
    "    boxes = state[1]\n",
    "    player_list = []\n",
    "    for co in player:\n",
    "        player_list.append(co)\n",
    "    player_tuple = tuple(player_list)\n",
    "    boxes_list = []\n",
    "    for box in boxes:\n",
    "        current_box_list = []\n",
    "        for co in box:\n",
    "            current_box_list.append(co)\n",
    "        current_box_tuple = tuple(current_box_list)\n",
    "        boxes_list.append(current_box_tuple)\n",
    "    boxes_tuple = tuple(boxes_list)\n",
    "    final = (player_tuple,boxes_tuple)\n",
    "    return final\n",
    "\n",
    "def wall_or_out(pos, game):\n",
    "    row = pos[0]\n",
    "    collomn = pos[1] \n",
    "    if row < 0:\n",
    "        return True\n",
    "    if row >= game.height:\n",
    "        return True\n",
    "    if collomn < 0:\n",
    "        return True\n",
    "    if collomn >= game.width:\n",
    "        return True\n",
    "    if game.game_map[row][collomn][0] == 'W':\n",
    "        return True\n",
    "    return False\n",
    "\n",
    "def new_possition(pos, move, game):\n",
    "    deltaX = move[0]\n",
    "    deltaY = move[1]\n",
    "    pos_row = pos[0]\n",
    "    pos_col = pos[1]\n",
    "    new_row = pos_row + deltaY\n",
    "    new_col = pos_col + deltaX\n",
    "    new_pos = [new_row, new_col]\n",
    "    if new_row >= 0 and new_row < game.height and new_col >= 0 and new_col < game.width:\n",
    "        if game.game_map[new_row][new_col][0] == 'P':\n",
    "            portal_id = int(game.game_map[new_row][new_col][1:])          \n",
    "            portalI = game.portals[portal_id - 1][0]\n",
    "            portalII = game.portals[portal_id - 1][1]\n",
    "            portal_pos0 = list(portalI)\n",
    "            portal_pos1 = list(portalII)\n",
    "            if new_pos == portal_pos0:\n",
    "                other = portal_pos1\n",
    "            else:\n",
    "                other = portal_pos0\n",
    "            other_row = other[0]\n",
    "            other_col = other[1]\n",
    "            new_other_row = other_row + deltaY\n",
    "            new_other_col = other_col + deltaX\n",
    "            new_pos = [new_other_row, new_other_col]\n",
    "            return new_pos\n",
    "    return new_pos\n",
    "\n",
    "def state_expand(state, move, game):\n",
    "    player = state[0]\n",
    "    boxes = state[1]\n",
    "    deltaX = move[0]\n",
    "    deltaY = move[1]\n",
    "    new_player = new_possition(player, (deltaY, deltaX), game)\n",
    "    if wall_or_out(new_player, game):\n",
    "        return None\n",
    "    new_boxes = []\n",
    "    for b in boxes:\n",
    "        new_box = list(b)\n",
    "        new_boxes.append(new_box)\n",
    "    box_moved = False\n",
    "    for i in range(len(new_boxes)):\n",
    "        box = new_boxes[i]\n",
    "        if box == new_player:\n",
    "            box_moved = True\n",
    "            new_box = new_possition(box, (deltaY, deltaX), game)\n",
    "            if wall_or_out(new_box, game):\n",
    "                return None\n",
    "            collision_found = False\n",
    "            for j in range(len(new_boxes)):\n",
    "                if j != i:\n",
    "                    other_box = new_boxes[j]\n",
    "                    if other_box == new_box:\n",
    "                        collision_found = True\n",
    "                        break\n",
    "            if collision_found:\n",
    "                return None\n",
    "            new_boxes[i] = new_box\n",
    "            break\n",
    "    new_state = [new_player, new_boxes]\n",
    "    return new_state\n",
    "\n",
    "def manhattan(a, b):\n",
    "    return abs(a[0] - b[0]) + abs(a[1] - b[1])\n",
    "\n"
   ]
  },
  {
   "cell_type": "markdown",
   "metadata": {},
   "source": [
    "### BFS"
   ]
  },
  {
   "cell_type": "code",
   "execution_count": 16,
   "metadata": {},
   "outputs": [
    {
     "name": "stdout",
     "output_type": "stream",
     "text": [
      "BFS algoritm:\n",
      "Moves: ['L', 'R', 'R', 'L', 'U', 'D', 'D'] -----  Visited States: 47 ----- map: 1\n",
      "0.0033\n",
      "Moves: ['D', 'L', 'R', 'R', 'L', 'D'] -----  Visited States: 26 ----- map: 2\n",
      "0.0011\n",
      "Moves: ['L', 'D', 'R', 'R', 'L', 'L', 'L', 'L', 'U', 'R', 'R', 'R', 'R'] -----  Visited States: 130 ----- map: 3\n",
      "0.0043\n",
      "Moves: None -----  Visited States: 2 ----- map: 4\n",
      "0.0011\n",
      "Moves: ['L', 'D', 'R', 'R', 'U', 'R', 'D', 'D', 'D', 'L', 'L', 'L', 'U', 'L', 'D'] -----  Visited States: 7816 ----- map: 5\n",
      "0.1853\n",
      "Moves: ['L', 'L', 'L', 'L', 'L', 'U', 'U', 'U', 'D', 'D', 'D', 'D', 'D', 'D', 'D', 'R', 'R', 'R', 'R', 'R', 'R', 'R', 'R', 'R', 'U', 'R', 'D', 'U', 'U', 'U', 'U', 'U', 'U', 'U'] -----  Visited States: 20823 ----- map: 6\n",
      "0.4836\n",
      "Moves: ['U', 'L', 'U', 'U', 'R', 'R', 'R', 'R', 'D', 'R', 'U', 'L', 'L', 'L', 'L', 'D', 'D', 'D', 'U', 'R', 'U', 'R', 'U', 'R', 'R', 'D', 'D', 'R', 'D', 'D', 'L', 'L', 'R', 'U'] -----  Visited States: 802173 ----- map: 7\n",
      "40.5897\n",
      "Moves: ['L', 'L', 'U', 'R', 'D', 'R', 'U', 'U', 'R', 'U', 'L', 'U', 'R', 'U'] -----  Visited States: 10679 ----- map: 8\n",
      "0.1211\n",
      "Moves: ['U', 'U', 'U', 'U', 'U', 'R', 'U', 'L', 'D', 'L', 'U', 'L', 'D', 'D', 'D', 'L', 'D', 'R', 'U', 'L', 'L', 'L', 'D', 'R', 'U', 'R', 'D', 'R', 'U', 'U', 'R', 'U', 'L', 'D', 'L', 'U', 'L', 'U', 'R', 'R', 'U', 'R', 'D', 'D', 'D', 'D'] -----  Visited States: 255601 ----- map: 10\n",
      "6.9417\n"
     ]
    }
   ],
   "source": [
    "\n",
    "# TODO: Must return moves (if there is no solution return None), number of visited states\n",
    "\n",
    "def solver_bfs(game_map):\n",
    "    \n",
    "    game = Game(game_map)\n",
    "    player_initial = list(game.player_pos)\n",
    "    boxes_initial = []\n",
    "    for b in game.boxes:\n",
    "        current_box = list(b)\n",
    "        boxes_initial.append(current_box)\n",
    "    initial_state = [player_initial, boxes_initial]\n",
    "    goal_state = []\n",
    "    for g in game.goals:\n",
    "        current_goal = list(g)\n",
    "        goal_state.append(current_goal)\n",
    "    visited = {}\n",
    "    initial_key = state_convertor(initial_state)\n",
    "    visited[initial_key] = (None, None)\n",
    "    queue = []\n",
    "    queue.append(initial_state)\n",
    "    moves = {}\n",
    "    moves['L'] = (-1, 0)\n",
    "    moves['R'] = (1, 0)\n",
    "    moves['U'] = (0, 1)\n",
    "    moves['D'] = (0, -1)\n",
    "    while len(queue) > 0:\n",
    "        current_state = queue.pop(0)\n",
    "        current_key = state_convertor(current_state)\n",
    "        if current_state[1] == goal_state:\n",
    "            path = []\n",
    "            key_to_continue = current_key\n",
    "            while visited[key_to_continue][0] is not None:\n",
    "                previous_state = visited[key_to_continue][0]\n",
    "                path.append(visited[key_to_continue][1])\n",
    "                key_to_continue = state_convertor(previous_state)\n",
    "            path.reverse()\n",
    "            return path, len(visited)\n",
    "        for m in moves:\n",
    "            movess = moves[m]\n",
    "            new_state = state_expand(current_state, movess, game)\n",
    "            if new_state is not None:\n",
    "                new_key = state_convertor(new_state)\n",
    "                if new_key not in visited:\n",
    "                    visited[new_key] = (current_state, m)\n",
    "                    queue.append(new_state)\n",
    "    return None, len(visited)\n",
    "\n",
    "print(\"BFS algoritm:\")\n",
    "for i in range (1,11) :\n",
    "    if  i == 9 :\n",
    "        continue\n",
    "    start_time = time.time()\n",
    "    solution, visited_states = solver_bfs(load_map(i))\n",
    "    end_time = time.time()\n",
    "    print(f\"Moves: {solution} -----  Visited States: {visited_states} ----- map: {i}\")\n",
    "    print(round(end_time - start_time, 4))"
   ]
  },
  {
   "cell_type": "markdown",
   "metadata": {},
   "source": [
    "### DFS"
   ]
  },
  {
   "cell_type": "code",
   "execution_count": null,
   "metadata": {},
   "outputs": [],
   "source": [
    "# TODO: Must return moves, number of visited states\n",
    "\n",
    "def solver_dfs(game_map):\n",
    "    game = Game(game_map)\n",
    "    player_initial = list(game.player_pos)\n",
    "    boxes_initial = []\n",
    "    for b in game.boxes:\n",
    "        current_box = list(b)\n",
    "        boxes_initial.append(current_box)\n",
    "    initial_state = [player_initial, boxes_initial]\n",
    "    goal_state = []\n",
    "    for g in game.goals:\n",
    "        current_goal = list(g)\n",
    "        goal_state.append(current_goal)\n",
    "    visited = {}\n",
    "    initial_key = state_convertor(initial_state)\n",
    "    visited[initial_key] = (None, None)\n",
    "    stack = []\n",
    "    stack.append(initial_state)\n",
    "    moves = {}\n",
    "    moves['L'] = (-1, 0)\n",
    "    moves['R'] = (1, 0)\n",
    "    moves['U'] = (0, 1)\n",
    "    moves['D'] = (0, -1)\n",
    "    while len(stack) > 0:\n",
    "        current_state = stack.pop()\n",
    "        current_key = state_convertor(current_state)\n",
    "        if current_state[1] == goal_state:\n",
    "            path = []\n",
    "            key_to_continue = current_key\n",
    "            while visited[key_to_continue][0] is not None:\n",
    "                previous_state = visited[key_to_continue][0]\n",
    "                path.append(visited[key_to_continue][1])\n",
    "                key_to_continue = state_convertor(previous_state)\n",
    "            path.reverse()\n",
    "            return path, len(visited)\n",
    "        for m in moves:\n",
    "            movess = moves[m]\n",
    "            new_state = state_expand(current_state, movess, game)\n",
    "            if new_state is not None:\n",
    "                new_key = state_convertor(new_state)\n",
    "                if new_key not in visited:\n",
    "                    visited[new_key] = (current_state, m)\n",
    "                    stack.append(new_state)\n",
    "    return None, len(visited)\n",
    "\n",
    "\n",
    "print(\"DFS algoritm:\")\n",
    "for i in range (1,9) :\n",
    "    if i == 7  :\n",
    "        continue\n",
    "    start_time = time.time()\n",
    "    solution, visited_states = solver_dfs(load_map(i))\n",
    "    end_time = time.time()\n",
    "    print(f\"Moves: {solution} -----  Visited States: {visited_states} ----- map: {i}\")\n",
    "    print(round(end_time - start_time, 4))\n"
   ]
  },
  {
   "cell_type": "markdown",
   "metadata": {},
   "source": [
    "### IDS"
   ]
  },
  {
   "cell_type": "code",
   "execution_count": null,
   "metadata": {},
   "outputs": [],
   "source": [
    "\n",
    "# TODO: Must return moves, number of visited states\n",
    "\n",
    "def dls(state, depth, limit, path, visited, goal_state, game, moves):\n",
    "    if state[1] == goal_state:\n",
    "        return path\n",
    "    if depth == limit:\n",
    "        return None\n",
    "    for m in moves:\n",
    "        move_delta = moves[m]\n",
    "        new_state = state_expand(state, move_delta, game)\n",
    "        if new_state is not None:\n",
    "            new_state_key = state_convertor(new_state)\n",
    "            if new_state_key not in visited:\n",
    "                visited.add(new_state_key)\n",
    "                new_path = list(path)\n",
    "                new_path.append(m)\n",
    "                result = dls(new_state, depth + 1, limit, new_path, visited, goal_state, game, moves)\n",
    "                if result is not None:\n",
    "                    return result\n",
    "                visited.remove(new_state_key)\n",
    "    return None\n",
    "\n",
    "def solver_ids(game_map):\n",
    "    game = Game(game_map)\n",
    "    player_initial = list(game.player_pos)\n",
    "    boxes_initial = []\n",
    "    for b in game.boxes:\n",
    "        current_box = list(b)\n",
    "        boxes_initial.append(current_box)\n",
    "    initial_state = [player_initial, boxes_initial]\n",
    "    goal_state = []\n",
    "    for g in game.goals:\n",
    "        current_goal = list(g)\n",
    "        goal_state.append(current_goal)\n",
    "    moves = {}\n",
    "    moves['L'] = (-1, 0)\n",
    "    moves['R'] = (1, 0)\n",
    "    moves['U'] = (0, 1)\n",
    "    moves['D'] = (0, -1)\n",
    "    limit = 0\n",
    "    while 1:\n",
    "        visited = set()\n",
    "        initial_key = state_convertor(initial_state)\n",
    "        visited.add(initial_key)\n",
    "        result = dls(initial_state, 0, limit, [], visited, goal_state, game, moves)\n",
    "        if result is not None:\n",
    "            return result, len(result)\n",
    "        limit = limit + 1\n",
    "        \n",
    "        \n",
    "print(\"IDS algoritm:\")\n",
    "for i in range (1,9) :\n",
    "    if i == 4 or i == 7 or i == 6 :\n",
    "        continue\n",
    "    start_time = time.time()\n",
    "    solution, visited_states = solver_ids(load_map(i))\n",
    "    end_time = time.time()\n",
    "    print(f\"Moves: {solution} -----  Visited States: {visited_states} ----- map: {i}\")\n",
    "    print(round(end_time - start_time, 4))\n"
   ]
  },
  {
   "cell_type": "markdown",
   "metadata": {},
   "source": [
    "### A*"
   ]
  },
  {
   "cell_type": "code",
   "execution_count": 13,
   "metadata": {},
   "outputs": [
    {
     "name": "stdout",
     "output_type": "stream",
     "text": [
      "A* algoritm:\n",
      "Weight: 1 ----- Moves: ['L', 'R', 'R', 'L', 'U', 'D', 'D'] -----  Visited States: 47 ----- map: 1\n",
      "0.0047\n",
      "Weight: 1 ----- Moves: ['D', 'L', 'R', 'R', 'L', 'D'] -----  Visited States: 26 ----- map: 2\n",
      "0.0019\n",
      "Weight: 1 ----- Moves: ['L', 'D', 'R', 'R', 'L', 'L', 'L', 'L', 'U', 'R', 'R', 'R', 'R'] -----  Visited States: 114 ----- map: 3\n",
      "0.0\n",
      "Weight: 1 ----- Moves: None -----  Visited States: 2 ----- map: 4\n",
      "0.0\n",
      "Weight: 1 ----- Moves: ['D', 'L', 'D', 'R', 'R', 'U', 'R', 'D', 'D', 'L', 'L', 'L', 'U', 'L', 'D'] -----  Visited States: 1269 ----- map: 5\n",
      "0.0593\n",
      "Weight: 1 ----- Moves: ['L', 'L', 'L', 'L', 'L', 'U', 'U', 'U', 'D', 'D', 'D', 'D', 'D', 'D', 'D', 'R', 'R', 'R', 'R', 'R', 'R', 'R', 'R', 'R', 'U', 'R', 'D', 'U', 'U', 'U', 'U', 'U', 'U', 'U'] -----  Visited States: 8246 ----- map: 6\n",
      "1.8236\n",
      "Weight: 1 ----- Moves: ['L', 'L', 'U', 'R', 'D', 'R', 'U', 'U', 'R', 'U', 'L', 'U', 'R', 'U'] -----  Visited States: 823 ----- map: 8\n",
      "0.0507\n",
      "Weight: 1 ----- Moves: ['U', 'U', 'U', 'U', 'U', 'R', 'U', 'L', 'D', 'L', 'U', 'L', 'D', 'D', 'D', 'L', 'D', 'R', 'U', 'L', 'L', 'L', 'D', 'R', 'U', 'R', 'D', 'R', 'U', 'U', 'R', 'U', 'L', 'D', 'L', 'U', 'L', 'U', 'R', 'R', 'U', 'R', 'D', 'D', 'D', 'D'] -----  Visited States: 80352 ----- map: 10\n",
      "73.8386\n"
     ]
    }
   ],
   "source": [
    "#TODO\n",
    "def heuristic(state, game):\n",
    "    boxes = state[1]\n",
    "    total_heu = 0\n",
    "    for i in range(len(boxes)):\n",
    "        box = boxes[i]\n",
    "        goal = game.goals[i]\n",
    "        d_direct = manhattan(box, goal)\n",
    "        d_one = float('inf')\n",
    "        for portal in game.portals:\n",
    "            p1, p2 = portal\n",
    "            option1 = manhattan(box, p1) + manhattan(p2, goal)\n",
    "            option2 = manhattan(box, p2) + manhattan(p1, goal)\n",
    "            d_one = min(d_one, option1, option2)\n",
    "        d_two = float('inf')\n",
    "        if len(game.portals) >= 2:\n",
    "            for j in range(len(game.portals)):\n",
    "                for k in range(len(game.portals)):\n",
    "                    if j == k:\n",
    "                        continue\n",
    "                    p1, p2 = game.portals[j]\n",
    "                    q1, q2 = game.portals[k]\n",
    "                    option1 = manhattan(box, p1) + manhattan(p2, q1) + manhattan(q2, goal)\n",
    "                    option2 = manhattan(box, p1) + manhattan(p2, q2) + manhattan(q1, goal)\n",
    "                    option3 = manhattan(box, p2) + manhattan(p1, q1) + manhattan(q2, goal)\n",
    "                    option4 = manhattan(box, p2) + manhattan(p1, q2) + manhattan(q1, goal)\n",
    "                    d_two = min(d_two, option1, option2, option3, option4)\n",
    "        \n",
    "        best_cost = min(d_direct, d_one, d_two)\n",
    "        total_heu += best_cost\n",
    "    return total_heu\n",
    "\n",
    "\n",
    "# # TODO: Must return moves, number of visited states\n",
    "def solver_astar(game_map, heuristic_func=heuristic, weight=1):\n",
    "    game = Game(game_map)\n",
    "    \n",
    "    player_initial = list(game.player_pos)\n",
    "    boxes_initial = []\n",
    "    for box in game.boxes:\n",
    "        boxes_initial.append(list(box))\n",
    "    initial_state = [player_initial, boxes_initial]\n",
    "    goal_state = []\n",
    "    for goal in game.goals:\n",
    "        goal_state.append(list(goal))\n",
    "    initial_key = state_convertor(initial_state)\n",
    "    visited = {initial_key: (0, None, None)}\n",
    "    h_initial = heuristic_func(initial_state, game)\n",
    "    last = [(h_initial, 0, initial_state)]\n",
    "    moves = {}\n",
    "    moves['L'] = (-1, 0)\n",
    "    moves['R'] = (1, 0)\n",
    "    moves['U'] = (0, 1)\n",
    "    moves['D'] = (0, -1)\n",
    "    while len(last) > 0:\n",
    "        best_index = 0\n",
    "        best_f, best_g, best_state = last[0]\n",
    "        for index in range(1, len(last)):\n",
    "            current_f, current_g, current_state = last[index]\n",
    "            if current_f < best_f:\n",
    "                best_f = current_f\n",
    "                best_g = current_g\n",
    "                best_state = current_state\n",
    "                best_index = index\n",
    "        last.pop(best_index)\n",
    "        current_key = state_convertor(best_state)\n",
    "        if best_state[1] == goal_state:\n",
    "            path = []\n",
    "            key = current_key\n",
    "            while visited[key][1] is not None:\n",
    "                parent_state = visited[key][1]\n",
    "                move_taken = visited[key][2]\n",
    "                path.append(move_taken)\n",
    "                key = state_convertor(parent_state)\n",
    "            path.reverse()\n",
    "            return path, len(visited)\n",
    "        for m in moves:\n",
    "            delta = moves[m]\n",
    "            new_state = state_expand(best_state, delta, game)\n",
    "            if new_state is not None:\n",
    "                new_key = state_convertor(new_state)\n",
    "                new_g = best_g + 1  \n",
    "                if new_key not in visited or new_g < visited[new_key][0]:\n",
    "                    visited[new_key] = (new_g, best_state, m)\n",
    "                    h_value = heuristic_func(new_state, game)\n",
    "                    new_f = new_g + weight * h_value\n",
    "                    last.append((new_f, new_g, new_state))\n",
    "    \n",
    "    return None, len(visited)\n",
    "\n",
    "\n",
    "print(\"A* algoritm:\")\n",
    "for i in range (1,11) :\n",
    "    if i == 9 or i == 7:\n",
    "        continue\n",
    "    start_time = time.time()\n",
    "    solution, visited_states = solver_astar(load_map(i))\n",
    "    end_time = time.time()\n",
    "    print(f\"Weight: {1} ----- Moves: {solution} -----  Visited States: {visited_states} ----- map: {i}\")\n",
    "    print(round(end_time - start_time, 4))\n",
    "\n",
    "\n",
    "# print(\"weight A* algoritm:\")\n",
    "# for i in range (1,11) :\n",
    "#     start_time = time.time()\n",
    "#     solution, visited_states = solver_astar(load_map(i),weight=4.2)\n",
    "#     end_time = time.time()\n",
    "#     print(f\"Weight: {4.2} ----- Moves: {solution} -----  Visited States: {visited_states} ----- map: {i}\")\n",
    "#     print(round(end_time - start_time, 4))\n"
   ]
  },
  {
   "cell_type": "markdown",
   "metadata": {},
   "source": [
    "## Solve"
   ]
  },
  {
   "cell_type": "code",
   "execution_count": 60,
   "metadata": {},
   "outputs": [],
   "source": [
    "SOLVERS = {\n",
    "    \"BFS\": solver_bfs,\n",
    "    \"DFS\": solver_dfs,\n",
    "    \"IDS\": solver_ids,\n",
    "    \"A*\": solver_astar,\n",
    "}"
   ]
  },
  {
   "cell_type": "code",
   "execution_count": 61,
   "metadata": {},
   "outputs": [],
   "source": [
    "def solve(map, method):  \n",
    "    \n",
    "    if not is_valid_input(map, map_file_indices, method, SOLVERS):\n",
    "        return\n",
    "    \n",
    "    file_name = \"map\" + str(map) + \".txt\"\n",
    "    with open('./assets/maps/' + file_name) as f:\n",
    "        game_map = f.read()\n",
    "    \n",
    "    start_time = time.time()\n",
    "    moves, numof_visited_states = SOLVERS[method](game_map)\n",
    "    end_time = time.time()\n",
    "    print(f\"{method} took {round(end_time - start_time, 2)} seconds on map {map} and visited {numof_visited_states} states.\")\n",
    "    \n",
    "    if moves is None:\n",
    "        print(\"No Solution Found!\")\n",
    "    else:\n",
    "        print(f\"{len(moves)} moves were used: {moves}\")\n",
    "            "
   ]
  },
  {
   "cell_type": "code",
   "execution_count": 62,
   "metadata": {},
   "outputs": [],
   "source": [
    "# solve(1, \"IDS\") # Solve map 1 using IDS"
   ]
  },
  {
   "cell_type": "code",
   "execution_count": null,
   "metadata": {},
   "outputs": [],
   "source": [
    "# def solve_all():\n",
    "#     for map in range(min(map_file_indices), max(map_file_indices) + 1):\n",
    "#         for method in SOLVERS.keys():\n",
    "#             solve(map, method)\n",
    "            "
   ]
  },
  {
   "cell_type": "code",
   "execution_count": 64,
   "metadata": {},
   "outputs": [],
   "source": [
    "# solve_all() # Solve all maps using all methods"
   ]
  }
 ],
 "metadata": {
  "kernelspec": {
   "display_name": "Python 3",
   "language": "python",
   "name": "python3"
  },
  "language_info": {
   "codemirror_mode": {
    "name": "ipython",
    "version": 3
   },
   "file_extension": ".py",
   "mimetype": "text/x-python",
   "name": "python",
   "nbconvert_exporter": "python",
   "pygments_lexer": "ipython3",
   "version": "3.12.4"
  }
 },
 "nbformat": 4,
 "nbformat_minor": 2
}
